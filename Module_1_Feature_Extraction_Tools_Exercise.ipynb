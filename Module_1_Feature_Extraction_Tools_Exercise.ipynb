{
  "nbformat": 4,
  "nbformat_minor": 0,
  "metadata": {
    "colab": {
      "provenance": []
    },
    "kernelspec": {
      "name": "python3",
      "display_name": "Python 3"
    },
    "language_info": {
      "name": "python"
    }
  },
  "cells": [
    {
      "cell_type": "markdown",
      "source": [
        "# Exercise: Data Analysis with Iris Dataset\n",
        "\n",
        "## Dataset: Iris Dataset\n"
      ],
      "metadata": {
        "id": "XXKofPzc4on2"
      }
    },
    {
      "cell_type": "code",
      "source": [
        "# Importing necessary libraries\n",
        "import pandas as pd\n",
        "import numpy as np\n",
        "import matplotlib.pyplot as plt\n",
        "import seaborn as sns\n",
        "from scipy.stats import ttest_ind\n",
        "\n",
        "\n",
        "iris = sns.load_dataset(\"iris\")"
      ],
      "metadata": {
        "id": "IU8yDRtq5iO4"
      },
      "execution_count": 1,
      "outputs": []
    },
    {
      "cell_type": "markdown",
      "source": [
        "\n",
        "---\n",
        "\n",
        "### Module 1: Pandas\n",
        "\n",
        "#### Question 1:\n",
        "Load the Iris dataset into a pandas DataFrame and display the first 5 rows of the dataset.\n",
        "\n",
        "#### Question 2:\n",
        "Calculate the mean, median, and standard deviation of the 'sepal length (cm)' column.\n",
        "\n",
        "#### Question 3:\n",
        "Filter the dataset to include only rows where the 'species' column is 'versicolor' and display the first 5 rows.\n"
      ],
      "metadata": {
        "id": "WWeUTSVz5ONN"
      }
    },
    {
      "cell_type": "code",
      "execution_count": null,
      "metadata": {
        "id": "tM-WCpZ41zKp"
      },
      "outputs": [],
      "source": []
    },
    {
      "cell_type": "markdown",
      "source": [
        "\n",
        "---\n",
        "\n",
        "### Module 2: NumPy\n",
        "\n",
        "#### Question 1:\n",
        "Calculate the mean, median, and standard deviation of the 'petal width (cm)' column using NumPy.\n",
        "\n",
        "#### Question 2:\n",
        "Create a new column 'sepal_area' in the DataFrame by multiplying the 'sepal length (cm)' and 'sepal width (cm)' columns.\n",
        "\n",
        "#### Question 3:\n",
        "Count the number of unique values in the 'species' column using NumPy.\n",
        "\n"
      ],
      "metadata": {
        "id": "JBLXKpGx5RhZ"
      }
    },
    {
      "cell_type": "code",
      "source": [],
      "metadata": {
        "id": "o46NzhVl5Uor"
      },
      "execution_count": null,
      "outputs": []
    },
    {
      "cell_type": "markdown",
      "source": [
        "---\n",
        "\n",
        "### Module 3: Matplotlib\n",
        "\n",
        "#### Question 1:\n",
        "Create a scatter plot of 'sepal length (cm)' vs 'sepal width (cm)'.\n",
        "\n",
        "#### Question 2:\n",
        "Create a histogram of 'petal length (cm)' with 20 bins.\n",
        "\n",
        "#### Question 3:\n",
        "Plot the boxplot of 'petal width (cm)' grouped by 'species'.\n",
        "\n"
      ],
      "metadata": {
        "id": "wUpiXsBV5VUU"
      }
    },
    {
      "cell_type": "code",
      "source": [],
      "metadata": {
        "id": "LrjDoKFr5XOD"
      },
      "execution_count": null,
      "outputs": []
    },
    {
      "cell_type": "markdown",
      "source": [
        "---\n",
        "\n",
        "### Module 4: Seaborn\n",
        "\n",
        "#### Question 1:\n",
        "Create a pairplot of the entire dataset colored by 'species'.\n",
        "\n",
        "#### Question 2:\n",
        "Create a heatmap showing the correlation matrix of the numerical columns in the dataset.\n",
        "\n",
        "#### Question 3:\n",
        "Create a violin plot of 'sepal length (cm)' grouped by 'species'.\n",
        "\n"
      ],
      "metadata": {
        "id": "IoXoYVro5Xqg"
      }
    },
    {
      "cell_type": "code",
      "source": [],
      "metadata": {
        "id": "dBFWMeg65ZsL"
      },
      "execution_count": null,
      "outputs": []
    },
    {
      "cell_type": "markdown",
      "source": [
        "---\n",
        "\n",
        "### Module 5: Scipy\n",
        "\n",
        "#### Question 1:\n",
        "Perform a t-test to compare the 'sepal length (cm)' of 'setosa' and 'versicolor' species.\n",
        "\n"
      ],
      "metadata": {
        "id": "V-M41s0D5Z6z"
      }
    },
    {
      "cell_type": "code",
      "source": [],
      "metadata": {
        "id": "kizycNoq5aeG"
      },
      "execution_count": null,
      "outputs": []
    }
  ]
}